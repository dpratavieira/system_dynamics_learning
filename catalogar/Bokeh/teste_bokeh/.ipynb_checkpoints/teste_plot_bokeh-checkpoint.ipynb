{
 "cells": [
  {
   "cell_type": "code",
   "execution_count": 1,
   "id": "95c0b1a2",
   "metadata": {},
   "outputs": [],
   "source": [
    "import numpy as np\n",
    "import pandas as pd\n",
    "from scipy.interpolate import interp2d\n",
    "import matplotlib.pyplot as plt\n",
    "from bokeh.layouts import column, row\n",
    "from bokeh.models import CustomJS, Range1d, Slider, TextInput, Button, Paragraph\n",
    "from bokeh.plotting import ColumnDataSource, figure, show, curdoc\n",
    "from bokeh.io import output_notebook()"
   ]
  },
  {
   "cell_type": "code",
   "execution_count": 2,
   "id": "3addb610",
   "metadata": {},
   "outputs": [],
   "source": [
    "dofs_names = ['Surge', 'Sway', 'Heave', 'Roll', 'Pitch', 'Yaw']\n",
    "arq4 = pd.read_csv('force.4', header=None, delim_whitespace=True)\n",
    "arq4.columns=['Period','Incidence','DOF','MOD','PHA','REAL','IMAG']\n",
    "\n",
    "per = np.unique(arq4['Period'])\n",
    "inc = np.unique(arq4['Incidence'])\n",
    "pos = arq4['DOF']==4\n",
    "rao_roll = arq4['MOD'][pos].to_numpy().reshape((-1,len(inc)))"
   ]
  },
  {
   "cell_type": "code",
   "execution_count": 3,
   "id": "3658b01b",
   "metadata": {},
   "outputs": [
    {
     "ename": "NameError",
     "evalue": "name 'output_notebook' is not defined",
     "output_type": "error",
     "traceback": [
      "\u001b[1;31m---------------------------------------------------------------------------\u001b[0m",
      "\u001b[1;31mNameError\u001b[0m                                 Traceback (most recent call last)",
      "Input \u001b[1;32mIn [3]\u001b[0m, in \u001b[0;36m<cell line: 1>\u001b[1;34m()\u001b[0m\n\u001b[1;32m----> 1\u001b[0m \u001b[43moutput_notebook\u001b[49m()\n",
      "\u001b[1;31mNameError\u001b[0m: name 'output_notebook' is not defined"
     ]
    }
   ],
   "source": [
    "output_notebook()"
   ]
  },
  {
   "cell_type": "code",
   "execution_count": null,
   "id": "1c3739af",
   "metadata": {},
   "outputs": [],
   "source": []
  }
 ],
 "metadata": {
  "kernelspec": {
   "display_name": "Python 3 (ipykernel)",
   "language": "python",
   "name": "python3"
  },
  "language_info": {
   "codemirror_mode": {
    "name": "ipython",
    "version": 3
   },
   "file_extension": ".py",
   "mimetype": "text/x-python",
   "name": "python",
   "nbconvert_exporter": "python",
   "pygments_lexer": "ipython3",
   "version": "3.10.4"
  }
 },
 "nbformat": 4,
 "nbformat_minor": 5
}
