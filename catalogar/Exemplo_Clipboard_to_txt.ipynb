{
 "cells": [
  {
   "cell_type": "code",
   "execution_count": 3,
   "metadata": {},
   "outputs": [
    {
     "data": {
      "text/plain": [
       "True"
      ]
     },
     "execution_count": 3,
     "metadata": {},
     "output_type": "execute_result"
    }
   ],
   "source": [
    "import pyperclip\n",
    "import os\n",
    "\n",
    "\n",
    "s = pyperclip.paste()\n",
    "\n",
    "# \n",
    "# print(s)\n",
    "\n",
    "# s = s.split('\\r\\n')\n",
    "s = s.split(os.linesep)\n",
    "\n",
    "# print(s, file=open(\"Output1.txt\", \"w\"))\n",
    "\n",
    "with open(\"Output2.txt\", \"w\") as text_file:\n",
    "    for line in s:\n",
    "        text_file.write(line + '\\n')\n",
    "\n",
    "text_file.closed"
   ]
  }
 ],
 "metadata": {
  "kernelspec": {
   "display_name": "Python 3.10.4 64-bit",
   "language": "python",
   "name": "python3"
  },
  "language_info": {
   "codemirror_mode": {
    "name": "ipython",
    "version": 3
   },
   "file_extension": ".py",
   "mimetype": "text/x-python",
   "name": "python",
   "nbconvert_exporter": "python",
   "pygments_lexer": "ipython3",
   "version": "3.10.4"
  },
  "orig_nbformat": 4,
  "vscode": {
   "interpreter": {
    "hash": "d3e10ef16274dd72e574b8fa73b58450b957d8421a2901baded3cca26fcf5dda"
   }
  }
 },
 "nbformat": 4,
 "nbformat_minor": 2
}
